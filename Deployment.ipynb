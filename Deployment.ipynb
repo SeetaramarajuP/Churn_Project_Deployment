{
  "cells": [
    {
      "metadata": {
        "ExecuteTime": {
          "end_time": "2023-09-07T09:33:08.638663Z",
          "start_time": "2023-09-07T09:33:01.106289Z"
        },
        "trusted": false
      },
      "id": "5e59889f",
      "cell_type": "code",
      "source": "import pandas as pd \nimport streamlit as st\nfrom imblearn.combine import SMOTEENN\nfrom collections import Counter\nfrom sklearn.ensemble import RandomForestClassifier\nfrom sklearn.model_selection import train_test_split\n",
      "execution_count": 1,
      "outputs": []
    },
    {
      "metadata": {
        "ExecuteTime": {
          "end_time": "2023-09-07T09:33:14.181847Z",
          "start_time": "2023-09-07T09:33:13.015398Z"
        },
        "trusted": false
      },
      "id": "a7e43f7b",
      "cell_type": "code",
      "source": "st.title('Model Development \\n Telecommunication Churning')\nst.sidebar.header('Input Features')\ndef input_features():\n    Voice_Plan=st.sidebar.selectbox('Voice Plan',('1','0'))\n    International_Plan=st.sidebar.selectbox('International Plan',('1','0'))\n    International_Calls=st.sidebar.number_input('Insert Number Of Calls')\n    International_Charges=st.sidebar.number_input('Insert International Charge')\n    Day_Charges=st.sidebar.number_input('Insert Day Charge')\n    Evening_Mins=st.sidebar.number_input('Insert Evening Minutes')\n    Night_Mins=st.sidebar.number_input('Insert Night Minutes')\n    \n    data={'Voice_Plan':Voice_Plan,\n          'International_Plan':International_Plan,\n          'International_Calls':International_Calls,\n          'International_Charges':International_Charges,\n          'Day_Charges':Day_Charges,\n          'Evening_Mins':Evening_Mins,\n          'Night_Mins':Night_Mins}\n    features=pd.DataFrame(data,index=[0])\n    return features\ndf=input_features()\nst.subheader('User Input Features')\nst.write(df)\n\n",
      "execution_count": 2,
      "outputs": [
        {
          "name": "stderr",
          "output_type": "stream",
          "text": "2023-09-07 15:03:14.130 \n  \u001b[33m\u001b[1mWarning:\u001b[0m to view this Streamlit app on a browser, run it with the following\n  command:\n\n    streamlit run C:\\Users\\DELL\\anaconda3\\lib\\site-packages\\ipykernel_launcher.py [ARGUMENTS]\n"
        }
      ]
    },
    {
      "metadata": {
        "ExecuteTime": {
          "end_time": "2023-09-07T09:33:31.577403Z",
          "start_time": "2023-09-07T09:33:31.275126Z"
        },
        "trusted": false
      },
      "id": "1368d269",
      "cell_type": "code",
      "source": "churn=pd.read_csv('Churn_Without_Outliers',encoding='utf_8')\nx=churn.iloc[:,1:8]\ny=churn.iloc[:,8]\nx_train,x_test,y_train,y_test=train_test_split(x,y,test_size=.25)\nsm=SMOTEENN()\nX,Y = sm.fit_resample(x_train,y_train)\n",
      "execution_count": 3,
      "outputs": []
    },
    {
      "metadata": {
        "ExecuteTime": {
          "end_time": "2023-09-07T09:33:36.912077Z",
          "start_time": "2023-09-07T09:33:35.963747Z"
        },
        "trusted": false
      },
      "id": "60dd086c",
      "cell_type": "code",
      "source": "RF=RandomForestClassifier()\nRF.fit(X,Y)\npredict=RF.predict(df)\nprediction_probability=RF.predict_proba(df)\n\n",
      "execution_count": 4,
      "outputs": []
    },
    {
      "metadata": {
        "ExecuteTime": {
          "end_time": "2023-09-07T09:33:39.133696Z",
          "start_time": "2023-09-07T09:33:39.109885Z"
        },
        "trusted": false
      },
      "id": "50a60a28",
      "cell_type": "code",
      "source": "st.subheader('Prediction Result')\nst.write('Yes' if prediction_probability[0][1]>0.5 else 'No')\n\nst.subheader('Prediction Probability')\nst.write(prediction_probability)",
      "execution_count": 5,
      "outputs": []
    }
  ],
  "metadata": {
    "kernelspec": {
      "name": "python3",
      "display_name": "Python 3 (ipykernel)",
      "language": "python"
    },
    "language_info": {
      "name": "python",
      "version": "3.9.12",
      "mimetype": "text/x-python",
      "codemirror_mode": {
        "name": "ipython",
        "version": 3
      },
      "pygments_lexer": "ipython3",
      "nbconvert_exporter": "python",
      "file_extension": ".py"
    },
    "gist": {
      "id": "",
      "data": {
        "description": "Churn Project/Deployment.ipynb",
        "public": true
      }
    }
  },
  "nbformat": 4,
  "nbformat_minor": 5
}